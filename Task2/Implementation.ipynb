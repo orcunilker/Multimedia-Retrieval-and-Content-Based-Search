{
 "cells": [
  {
   "cell_type": "code",
   "execution_count": 1,
   "metadata": {},
   "outputs": [],
   "source": [
    "import numpy as np                     # numpy\n",
    "import pandas as pd                    # pandas\n",
    "\n",
    "from numpy.linalg import norm"
   ]
  },
  {
   "cell_type": "code",
   "execution_count": 2,
   "metadata": {},
   "outputs": [],
   "source": [
    "#import implementation of task 1 for reuse\n",
    "%run ../Task1/Implementation.ipynb\n",
    "\n",
    "#your code here\n",
    "def calculate_cosine_similarity(inputDataFrame: pd.DataFrame) -> pd.DataFrame:\n",
    "    individualTermFrequencies = inputDataFrame[\"individual tf\"] #get tfs\n",
    "    \n",
    "    # we have list of terms, with lists of tfs in documents.\n",
    "    # we want list of documents, with lists of tf for terms\n",
    "    documentVector = list(map(list, zip(*individualTermFrequencies))) #'transpose' the individual tf matrix, so that we get documents\n",
    "    \n",
    "    # calculate cosine similarity for each pair\n",
    "    cosineSimilarityMatrix = []\n",
    "    for A in documentVector:\n",
    "        cosineSimilarityList = []\n",
    "        for B in documentVector:\n",
    "            cosineSimlarity = np.dot(A,B)/(norm(A)*norm(B))\n",
    "            cosineSimilarityList.append(cosineSimlarity)\n",
    "        cosineSimilarityMatrix.append(cosineSimilarityList)\n",
    "    \n",
    "    df = pd.DataFrame(cosineSimilarityMatrix)\n",
    "    df.index += 1 #increment the indexes\n",
    "    for i in reversed(range(len(documentVector))): # reversed because else, it names all columns the same\n",
    "        df.rename(columns={i: i+1}, inplace=True) \n",
    "    \n",
    "    return df"
   ]
  },
  {
   "cell_type": "code",
   "execution_count": 3,
   "metadata": {},
   "outputs": [
    {
     "data": {
      "text/html": [
       "<div>\n",
       "<style scoped>\n",
       "    .dataframe tbody tr th:only-of-type {\n",
       "        vertical-align: middle;\n",
       "    }\n",
       "\n",
       "    .dataframe tbody tr th {\n",
       "        vertical-align: top;\n",
       "    }\n",
       "\n",
       "    .dataframe thead th {\n",
       "        text-align: right;\n",
       "    }\n",
       "</style>\n",
       "<table border=\"1\" class=\"dataframe\">\n",
       "  <thead>\n",
       "    <tr style=\"text-align: right;\">\n",
       "      <th></th>\n",
       "      <th>1</th>\n",
       "      <th>2</th>\n",
       "      <th>3</th>\n",
       "      <th>4</th>\n",
       "      <th>5</th>\n",
       "    </tr>\n",
       "  </thead>\n",
       "  <tbody>\n",
       "    <tr>\n",
       "      <th>1</th>\n",
       "      <td>1.000000</td>\n",
       "      <td>0.572892</td>\n",
       "      <td>0.780720</td>\n",
       "      <td>0.828079</td>\n",
       "      <td>0.155700</td>\n",
       "    </tr>\n",
       "    <tr>\n",
       "      <th>2</th>\n",
       "      <td>0.572892</td>\n",
       "      <td>1.000000</td>\n",
       "      <td>0.733799</td>\n",
       "      <td>0.889499</td>\n",
       "      <td>0.501745</td>\n",
       "    </tr>\n",
       "    <tr>\n",
       "      <th>3</th>\n",
       "      <td>0.780720</td>\n",
       "      <td>0.733799</td>\n",
       "      <td>1.000000</td>\n",
       "      <td>0.808122</td>\n",
       "      <td>0.341882</td>\n",
       "    </tr>\n",
       "    <tr>\n",
       "      <th>4</th>\n",
       "      <td>0.828079</td>\n",
       "      <td>0.889499</td>\n",
       "      <td>0.808122</td>\n",
       "      <td>1.000000</td>\n",
       "      <td>0.402911</td>\n",
       "    </tr>\n",
       "    <tr>\n",
       "      <th>5</th>\n",
       "      <td>0.155700</td>\n",
       "      <td>0.501745</td>\n",
       "      <td>0.341882</td>\n",
       "      <td>0.402911</td>\n",
       "      <td>1.000000</td>\n",
       "    </tr>\n",
       "  </tbody>\n",
       "</table>\n",
       "</div>"
      ],
      "text/plain": [
       "          1         2         3         4         5\n",
       "1  1.000000  0.572892  0.780720  0.828079  0.155700\n",
       "2  0.572892  1.000000  0.733799  0.889499  0.501745\n",
       "3  0.780720  0.733799  1.000000  0.808122  0.341882\n",
       "4  0.828079  0.889499  0.808122  1.000000  0.402911\n",
       "5  0.155700  0.501745  0.341882  0.402911  1.000000"
      ]
     },
     "execution_count": 3,
     "metadata": {},
     "output_type": "execute_result"
    }
   ],
   "source": [
    "calculate_cosine_similarity(calculate_tfidf('../collection1.txt'))"
   ]
  },
  {
   "cell_type": "code",
   "execution_count": null,
   "metadata": {},
   "outputs": [],
   "source": []
  }
 ],
 "metadata": {
  "kernelspec": {
   "display_name": "Python 3 (ipykernel)",
   "language": "python",
   "name": "python3"
  },
  "language_info": {
   "codemirror_mode": {
    "name": "ipython",
    "version": 3
   },
   "file_extension": ".py",
   "mimetype": "text/x-python",
   "name": "python",
   "nbconvert_exporter": "python",
   "pygments_lexer": "ipython3",
   "version": "3.9.7"
  }
 },
 "nbformat": 4,
 "nbformat_minor": 4
}
