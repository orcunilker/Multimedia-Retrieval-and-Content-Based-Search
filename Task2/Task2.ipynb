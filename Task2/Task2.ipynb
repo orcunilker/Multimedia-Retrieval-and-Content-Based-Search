{
 "cells": [
  {
   "cell_type": "markdown",
   "metadata": {},
   "source": [
    "<h2>Task 2: Print File (50 Points)</h2>\n",
    "<p>Print out a the contents of a text file.</p>\n",
    "<p>Use Python to implement the required function.</p>\n",
    "<h3>Tasks:</h3>\n",
    "<li>Write a Python function (<strong>print_file</strong>) that prints the contents of the file <strong>example.txt</strong>.</li>"
   ]
  },
  {
   "cell_type": "code",
   "execution_count": null,
   "metadata": {},
   "outputs": [],
   "source": [
    "file_name = \"../example.txt\""
   ]
  },
  {
   "cell_type": "markdown",
   "metadata": {},
   "source": [
    "<li>Do this in a separate notebook in the current folder (<strong>Task2</strong>) called <strong>\"Implementation.ipynb\"</strong>.</li>\n",
    "<li>Import said <strong>Implementation.ipynb</strong> notebook and test your implementation using the following call. </li>"
   ]
  },
  {
   "cell_type": "code",
   "execution_count": null,
   "metadata": {},
   "outputs": [],
   "source": [
    "%run Implementation.ipynb\n",
    "\n",
    "print_file(file_name)"
   ]
  }
 ],
 "metadata": {
  "kernelspec": {
   "display_name": "Python 3",
   "language": "python",
   "name": "python3"
  },
  "language_info": {
   "codemirror_mode": {
    "name": "ipython",
    "version": 3
   },
   "file_extension": ".py",
   "mimetype": "text/x-python",
   "name": "python",
   "nbconvert_exporter": "python",
   "pygments_lexer": "ipython3",
   "version": "3.9.7"
  }
 },
 "nbformat": 4,
 "nbformat_minor": 2
}
