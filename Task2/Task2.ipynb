{
 "cells": [
  {
   "cell_type": "markdown",
   "metadata": {},
   "source": [
    "<h2>Task 2: Cosine Similarity and Vector Space Model (20 Points)</h2>\n",
    "<p>Write a Python function that calculates the similarities that exist between the documents contained in a document collection on the basis of the&nbsp;<strong>vector space model</strong>.</p>\n",
    "<p>The function which is to be implemented in this task should calculate the&nbsp;<strong>cosine similarities</strong>&nbsp;on the basis of the term frequencies pertaining to the documents of a given document collection.</p>\n",
    "<p>The cosine similarity is an indicator of how similar two documents&nbsp;<em>d1</em>&nbsp;and&nbsp;<em>d2</em>&nbsp;are with respect to their constituting terms.</p>\n",
    "<p>For this task, you can make use of the results produced by the&nbsp;calculate_tfidf()&nbsp;function implemented in Task 1.</p>\n",
    "<p></p>\n",
    "<h3>Tasks:</h3>\n",
    "<ul>\n",
    "<li>Write a function calculate_cosine_similarity()&nbsp;that takes a set of <b>tf value vectors</b> where each vector pertains to a specific document&nbsp;<em>d</em>&nbsp;and each vector element corresponds to the <b>term frequency tf(t,d)</b> of a term&nbsp;<em>t</em>&nbsp;in document&nbsp;<em>d</em>. You can reuse the Dataframe that you computed for Task 1 here. Be careful, tf vector != tf-idf vector</li>\n",
    "<li>The function takes a Pandas data frame, related to <b>tf value vectors&nbsp;</b>as an argument. The corresponding invocation of the&nbsp;calculate_cosine_similarity() function should exhibit the following signature:\n",
    "</li>"
   ]
  },
  {
   "cell_type": "code",
   "execution_count": 1,
   "metadata": {},
   "outputs": [
    {
     "data": {
      "text/html": [
       "<div>\n",
       "<style scoped>\n",
       "    .dataframe tbody tr th:only-of-type {\n",
       "        vertical-align: middle;\n",
       "    }\n",
       "\n",
       "    .dataframe tbody tr th {\n",
       "        vertical-align: top;\n",
       "    }\n",
       "\n",
       "    .dataframe thead th {\n",
       "        text-align: right;\n",
       "    }\n",
       "</style>\n",
       "<table border=\"1\" class=\"dataframe\">\n",
       "  <thead>\n",
       "    <tr style=\"text-align: right;\">\n",
       "      <th></th>\n",
       "      <th>1</th>\n",
       "      <th>2</th>\n",
       "      <th>3</th>\n",
       "      <th>4</th>\n",
       "      <th>5</th>\n",
       "    </tr>\n",
       "  </thead>\n",
       "  <tbody>\n",
       "    <tr>\n",
       "      <th>1</th>\n",
       "      <td>1.000000</td>\n",
       "      <td>0.572892</td>\n",
       "      <td>0.780720</td>\n",
       "      <td>0.828079</td>\n",
       "      <td>0.155700</td>\n",
       "    </tr>\n",
       "    <tr>\n",
       "      <th>2</th>\n",
       "      <td>0.572892</td>\n",
       "      <td>1.000000</td>\n",
       "      <td>0.733799</td>\n",
       "      <td>0.889499</td>\n",
       "      <td>0.501745</td>\n",
       "    </tr>\n",
       "    <tr>\n",
       "      <th>3</th>\n",
       "      <td>0.780720</td>\n",
       "      <td>0.733799</td>\n",
       "      <td>1.000000</td>\n",
       "      <td>0.808122</td>\n",
       "      <td>0.341882</td>\n",
       "    </tr>\n",
       "    <tr>\n",
       "      <th>4</th>\n",
       "      <td>0.828079</td>\n",
       "      <td>0.889499</td>\n",
       "      <td>0.808122</td>\n",
       "      <td>1.000000</td>\n",
       "      <td>0.402911</td>\n",
       "    </tr>\n",
       "    <tr>\n",
       "      <th>5</th>\n",
       "      <td>0.155700</td>\n",
       "      <td>0.501745</td>\n",
       "      <td>0.341882</td>\n",
       "      <td>0.402911</td>\n",
       "      <td>1.000000</td>\n",
       "    </tr>\n",
       "  </tbody>\n",
       "</table>\n",
       "</div>"
      ],
      "text/plain": [
       "          1         2         3         4         5\n",
       "1  1.000000  0.572892  0.780720  0.828079  0.155700\n",
       "2  0.572892  1.000000  0.733799  0.889499  0.501745\n",
       "3  0.780720  0.733799  1.000000  0.808122  0.341882\n",
       "4  0.828079  0.889499  0.808122  1.000000  0.402911\n",
       "5  0.155700  0.501745  0.341882  0.402911  1.000000"
      ]
     },
     "execution_count": 1,
     "metadata": {},
     "output_type": "execute_result"
    }
   ],
   "source": [
    "%run Implementation.ipynb\n",
    "\n",
    "table_tfidf = calculate_tfidf('../collection1.txt')\n",
    "calculate_cosine_similarity(table_tfidf)"
   ]
  },
  {
   "cell_type": "markdown",
   "metadata": {},
   "source": [
    "##### An example how a possible output for three documents could look like\n",
    "\n",
    "<table align=\"left\" border=\\1\\ class=\\dataframe\\>\n",
    "  <thead>\n",
    "    <tr style=\\text-align: center;\\>\n",
    "      <th></th>\n",
    "      <th>1</th>\n",
    "      <th>2</th>\n",
    "      <th>3</th>\n",
    "    </tr>\n",
    "  </thead>\n",
    "  <tbody>\n",
    "    <tr>\n",
    "      <th>1</th>\n",
    "      <td>1.0000</td>\n",
    "      <td>0.1234</td>\n",
    "      <td>0.1234</td>\n",
    "    </tr>\n",
    "    <tr>\n",
    "      <th>2</th>\n",
    "      <td>0.1234</td>\n",
    "      <td>1.0000</td>\n",
    "      <td>0.1234</td>\n",
    "    </tr>\n",
    "    <tr>\n",
    "      <th>3</th>\n",
    "      <td>0.1234</td>\n",
    "      <td>0.1234</td>\n",
    "      <td>1.0000</td>\n",
    "    </tr>\n",
    "\n",
    "  </tbody>\n",
    "</table>\n",
    "       "
   ]
  },
  {
   "cell_type": "markdown",
   "metadata": {},
   "source": [
    "<li>The above function should output the cosine similarities for all document pairs in the provided collection.</li>\n",
    "<li>Become familiar with the&nbsp;<strong>vector space model</strong>&nbsp;and use it as a basis for your implementation</li></ul>\n",
    "<h3>Remarks:</h3><ul>\n",
    "<li>Information about the Euclidean length as well as vector length normalization are given in Section 6.3 \"The vector space model for scoring\" of the accompanying IR book.&nbsp;<br></li>\n",
    "</ul>\n",
    "<p>&nbsp;</p>"
   ]
  }
 ],
 "metadata": {
  "kernelspec": {
   "display_name": "Python 3 (ipykernel)",
   "language": "python",
   "name": "python3"
  },
  "language_info": {
   "codemirror_mode": {
    "name": "ipython",
    "version": 3
   },
   "file_extension": ".py",
   "mimetype": "text/x-python",
   "name": "python",
   "nbconvert_exporter": "python",
   "pygments_lexer": "ipython3",
   "version": "3.9.7"
  }
 },
 "nbformat": 4,
 "nbformat_minor": 4
}
