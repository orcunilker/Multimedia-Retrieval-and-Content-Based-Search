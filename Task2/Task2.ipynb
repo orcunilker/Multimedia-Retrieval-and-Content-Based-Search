{
 "cells": [
  {
   "cell_type": "markdown",
   "metadata": {},
   "source": [
    "<h2>Task 2 - Feature Extraction, Analysis and Visualization (50 pts)</h2><p>The goal of\n",
    "this task is to define a set of expedient features, extract them from the audio\n",
    "signals and combine the results. There are some good papers which deal exactly\n",
    "with the proper selection and combination of musical features: (you may use\n",
    "other sources as well)</p>\n",
    "\n",
    "<ul type=\"disc\">\n",
    " </ul><div style=\"margin-left: 30px;\" class=\"editor-indent\"><ul><li>\"Manipulation, Analysis\n",
    "     and Retrieval Systems for Audio Signals\" by Tzanetakis (<span lang=\"EN-GB\"><a href=\"http://www-2.cs.cmu.edu/%7Egtzan/work/pubs/thesis02gtzan.pdf\" title=\"http://www-2.cs.cmu.edu/~gtzan/work/pubs/thesis02gtzan.pdf\"><span lang=\"EN-US\">http://www-2.cs.cmu.edu/~gtzan/work/pubs/thesis02gtzan.pdf</span></a></span>)</li><li>\"Automatic Musical Genre\n",
    "     Classification Of Audio Signals\" by Tzanetakis et al. (<span lang=\"EN-GB\"><a href=\"http://ismir2001.ismir.net/pdf/tzanetakis.pdf\" title=\"http://ismir2001.ismir.net/pdf/tzanetakis.pdf\"><span lang=\"EN-US\">http://ismir2001.ismir.net/pdf/tzanetakis.pdf</span></a></span>)</li><li>\"Evaluation of Feature\n",
    "     Extractors and Psycho-acoustic Transformations for Music Genre\n",
    "     Classification.\" by Thomas Lidy and Andreas Rauber (<span lang=\"EN-GB\"><a href=\"http://ismir2005.ismir.net/proceedings/1033.pdf\" title=\"http://ismir2005.ismir.net/proceedings/1033.pdf\"><span lang=\"EN-US\">http://ismir2005.ismir.net/proceedings/1033.pdf</span></a></span>)</li></ul></div><ul type=\"disc\">\n",
    "</ul>\n",
    "\n",
    "<p>Determine your own set of features that you want to use. You may also define custom\n",
    "features (that do not occur in any publications) as well, but make sure that\n",
    "you are able to interpret, calculate and explain their functionality. The\n",
    "following requirements must be fulfilled:</p>\n",
    "\n",
    "<ul type=\"disc\">\n",
    " </ul><div style=\"margin-left: 30px;\" class=\"editor-indent\"><ul><li>Use (at least) 5 features and\n",
    "     combine them to a feature vector.</li><li>Make use of features of the\n",
    "     time-domain AND the frequency-domain</li></ul></div><ul type=\"disc\">\n",
    "</ul>\n",
    "\n",
    "<p>You may use\n",
    "the following suggestions for your selection. Consider sums, median, means,\n",
    "standard deviations if applicable.</p>\n",
    "\n",
    "<ul type=\"disc\">\n",
    " </ul><div style=\"margin-left: 30px;\" class=\"editor-indent\"><ul><li>Rolloff</li><li>Centroid</li><li>Tempo / Beats per minute</li><li>Pitch</li><li>Energy</li><li>Zero crossing rate (ZCR)</li><li>Rhythm patterns</li><li>Statistical Spectrum\n",
    "     Descriptors</li><li>Autocorrelation</li><li>Spectral Peaks</li><li>MFCC</li><li>...</li></ul></div><ul type=\"disc\">\n",
    "</ul>\n",
    "\n",
    "<p>We recommend\n",
    "to use LibROSA for feature extraction.</p>\n",
    "\n",
    "<p>Example\n",
    "vector:</p>\n",
    "\n",
    "<p>[(zcr); (centroid mean); (centroid std); (bpm); (flux mean)]</p>\n",
    "\n",
    "<p>The results of this task is the implementation of a feature-extraction function, a detailed description and reasons for their choice and - as a final result - the complete feature-vector representation for each of the provided audio tracks (ie. dataframe of <i>n</i> x <i>m</i> dimensions, where <i>n</i> states the number of files, <i>m</i> indicates the number of features).</p>"
   ]
  },
  {
   "cell_type": "markdown",
   "metadata": {},
   "source": [
    "### Answer the following questions\n",
    "\n",
    "\n",
    " #### What are audio features (as opposed to annotations)?\n",
    " ...\n",
    "\n",
    " ####  How are features that are extracted from the frequency domain being gathered? Outline typical processing steps.\n",
    " ...\n",
    "\n",
    " #### Fourier-transformed audio signals naturally loose their temporal information. How can this be circumvented?\n",
    " ...\n",
    "\n",
    "\n"
   ]
  },
  {
   "cell_type": "markdown",
   "metadata": {},
   "source": [
    "Evaluate your features using the results of Task 2 and the ground-truth (cp. Necessary preparations)\n",
    "with special focus on the association of similar sounding signals to their\n",
    "pre-defined genre class. Provide a detailed protocol in this notebook, including figures AND\n",
    "tabular representations for each GENRE (visualize the standard deviation and\n",
    "mean values of all tracks of a genre). Exemplary, select 3 audio tracks and\n",
    "describe their similarity both by your personal perception and the\n",
    "corresponding feature vectors. Back up why these audio files / feature vectors\n",
    "are in fact similar or not. Build mean- and standard-deviation vectors for each\n",
    "    genre (<b>THRILLER, DANCE, DOCUMENTARY</b>). (<i>3 x m</i>, where <i>m</i> indicates the number of features)</p>\n",
    "\n",
    "### You should turn in: ### \n",
    "* figures/tables per genre\n",
    "* figures/tables per feature\n",
    "* mean- and standard-deviation-vectors\n",
    "<p></p>\n",
    "<hr>"
   ]
  },
  {
   "cell_type": "code",
   "execution_count": null,
   "metadata": {},
   "outputs": [],
   "source": [
    "%run Implementation.ipynb\n",
    "\n",
    "#relies on having run task1 and having the processed audio files stored in a directory (dir parameter)\n",
    "#extracts all features from these files, outputs results and plots them\n",
    "#displays feature matrix, genre mean and genre standard deviation\n",
    "processAndDisplayAudioDirectoryFeatures(dir=\"../videos/processed\", plot=True, showDataframes=True)"
   ]
  },
  {
   "cell_type": "markdown",
   "metadata": {},
   "source": [
    "<p><b>You should\n",
    "provide:</b>\n",
    "<ul>\n",
    "<li>function that extracts and displays complete list of feature vectors over all files in the DevSet; we recommend a pandas dataframe to conveniently gather and display the feature data </li>\n",
    "<li>how many (at least 5) and what kind of features you choose is up to you. try to find meaningful ones, especially in regards to subsequent tasks</li>\n",
    "<li>provide the <b>mean</b> and <b>standard deviation</b> over all features per genre. is there any correlation between feature and movie genre? </li>\n",
    "<li>provide plots of all features. how do these features behave over all files?</li>\n",
    "<li>display all of the specified dataframes and plots on function call <b>processAndDisplayAudioDirectoryFeatures(...)</b>, as shown above</li>\n",
    "<li>answer the given questions and use your results to support your answers</li>\n",
    "</ul>\n",
    "As guidance, this is an example of how your dataframes and plots should (roughly) look like:"
   ]
  },
  {
   "cell_type": "markdown",
   "metadata": {},
   "source": [
    "<table>\n",
    " <thead>\n",
    "   <tr style=\\text-align: right;\\>\n",
    "     <th>GENRE STANDARD DEVIATION MATRIX</th>\n",
    "     <th>Centroid Means Std</th>\n",
    "     <th>Centroid Stds Std</th>\n",
    "     <th>Roll-off means Std</th>\n",
    "     <th>Roll-off Stds Std</th>\n",
    "     <th>Tempos Std</th>\n",
    "     <th>Zero Crossing Means Std</th>\n",
    "     <th>Zero Crossing Stds Std</th>\n",
    "     <th>Energy Means Std</th>\n",
    "     <th>Energy Stds Std</th>\n",
    "     <th>Flux Means Std</th>\n",
    "     <th>Flux Stds Std</th>\n",
    "   </tr>\n",
    " </thead>\n",
    " <tbody>\n",
    "   <tr>\n",
    "     <td>THRILLER</td>\n",
    "     <td>155.834379</td>\n",
    "     <td>172.607581</td>\n",
    "     <td>411.584574</td>\n",
    "     <td>44.136524</td>\n",
    "     <td>9.602418</td>\n",
    "     <td>0.056122</td>\n",
    "     <td>0.039366</td>\n",
    "     <td>3.207597</td>\n",
    "     <td>2.163030</td>\n",
    "     <td>1.250348</td>\n",
    "     <td>0.328758</td>\n",
    "   </tr>\n",
    "   <tr>\n",
    "     <td>DANCE</td>\n",
    "     <td>241.021206</td>\n",
    "     <td>111.064897</td>\n",
    "     <td>311.170248</td>\n",
    "     <td>112.010142</td>\n",
    "     <td>11.359136</td>\n",
    "     <td>0.043601</td>\n",
    "     <td>0.032152</td>\n",
    "     <td>1.967691</td>\n",
    "     <td>4.963002</td>\n",
    "     <td>0.255638</td>\n",
    "     <td>0.520323</td>\n",
    "   </tr>\n",
    "   <tr>\n",
    "     <td>DOCUMENTARY</td>\n",
    "     <td>157.483844</td>\n",
    "     <td>35.022452</td>\n",
    "     <td>263.260253</td>\n",
    "     <td>151.513420</td>\n",
    "     <td>15.648301</td>\n",
    "     <td>0.037372</td>\n",
    "     <td>0.017317</td>\n",
    "     <td>0.254027</td>\n",
    "     <td>0.123690</td>\n",
    "     <td>0.112475</td>\n",
    "     <td>0.299986</td>\n",
    "   </tr>\n",
    " </tbody>\n",
    "</table>"
   ]
  },
  {
   "cell_type": "markdown",
   "metadata": {},
   "source": [
    "<b>Energy standard deviation over all files:</b>\n",
    "![title](imgs/plot_example.png)"
   ]
  },
  {
   "cell_type": "markdown",
   "metadata": {},
   "source": []
  },
  {
   "cell_type": "markdown",
   "metadata": {},
   "source": [
    "Feel free to experiment or find other kinds of visualizations, though."
   ]
  }
 ],
 "metadata": {
  "kernelspec": {
   "display_name": "Python 3 (ipykernel)",
   "language": "python",
   "name": "python3"
  },
  "language_info": {
   "codemirror_mode": {
    "name": "ipython",
    "version": 3
   },
   "file_extension": ".py",
   "mimetype": "text/x-python",
   "name": "python",
   "nbconvert_exporter": "python",
   "pygments_lexer": "ipython3",
   "version": "3.9.7"
  }
 },
 "nbformat": 4,
 "nbformat_minor": 4
}
