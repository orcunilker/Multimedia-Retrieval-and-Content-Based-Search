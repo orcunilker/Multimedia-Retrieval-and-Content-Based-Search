{
 "cells": [
  {
   "cell_type": "markdown",
   "metadata": {},
   "source": [
    "<h2>Assignment Description</h2><h1>Assignment 1: Text-based Information Retrieval and Link Analysis</h1>\n",
    "<h2>General Information</h2>\n",
    "<p>Please follow the given recommendations as closely as possible in order to minimize the risk of losing points due to not be compliant with the guidelines:</p>\n",
    "<ul>\n",
    "<li>Points will be deducted in case your source code is not&nbsp;<strong>properly documented</strong></li>\n",
    "<li>All tasks have to be solved in Python within Jupyter Notebooks.</li>\n",
    "<li>It is absolutely mandatory that you stick to the <strong>method signatures</strong> and that your functions output the results as indicated in the task descriptions</li>\n",
    "<li>We strongly urge you to use <b>Python 3.9</b> for your implementation, since this is the Python version that will be used to grade your submissions.</li>\n",
    "<li>You must be prepared for the discussion so that you can answer&nbsp;<strong>in-depth questions</strong>&nbsp;about your code and the implemented steps as well as about the underlying retrieval-related theories and concepts</li>\n",
    "<li>We strongly advise you&nbsp;<strong>not</strong>&nbsp;to use&nbsp;<strong>static paths</strong>&nbsp;in your implementations!</li>\n",
    "    \n",
    "<li>Push your <strong>complete source code</strong> with all files following the naming scheme of the provided template files (i.e. Task1/Task1.ipynb, Task1/Implementation.ipynb etc.) to your <b>GitLab repository</b> at <a href>https://git01lab.cs.univie.ac.at/</a> <strong>before the deadline.</strong></li>\n",
    "\n",
    "<li>Implement all the necessary code in the <b>Implementation.ipynb</b> files provided with each task. Make sure that you run the code cells from the main notebooks (Task1.ipynb, Task2.ipynb etc.) that imports your Implementation to present your results. The output of these code cells should be the basis for the discussions in the assessment meetings, so think about how you want to present your results.</li>  \n",
    "<li>The code cells in the task notebooks are merely suggestions. You are allowed to make changes to the code fragments provided in the main notebooks, as long as they will execute correctly.</li>\n",
    "<li>In some tasks, you must answer additional questions or briefly document your progress in implementing specific algorithms or functions. Use Markdown to answer these questions and provide example code (if needed).</b></li>\n",
    "<li>Once you are done with everything, don't forget to generate a <b>requirements.txt</b> file. This is <b>mandatory</b> so we know which libraries and versions you were using.</li>\n",
    "\n",
    "<li>Scores:</li>\n",
    "<ul>\n",
    "<li>Task 1: 25 Points</li>\n",
    "<li>Task 2: 20 Points</li>\n",
    "<li>Task 3: 30 Points</li>\n",
    "<li>Task 4: 25 Points</li>\n",
    "</ul>\n",
    "</ul>"
   ]
  },
  {
   "cell_type": "code",
   "execution_count": null,
   "metadata": {},
   "outputs": [],
   "source": []
  }
 ],
 "metadata": {
  "kernelspec": {
   "display_name": "Python 3.9.7 64-bit",
   "language": "python",
   "name": "python3"
  },
  "language_info": {
   "codemirror_mode": {
    "name": "ipython",
    "version": 3
   },
   "file_extension": ".py",
   "mimetype": "text/x-python",
   "name": "python",
   "nbconvert_exporter": "python",
   "pygments_lexer": "ipython3",
   "version": "3.9.7"
  },
  "vscode": {
   "interpreter": {
    "hash": "aee8b7b246df8f9039afb4144a1f6fd8d2ca17a180786b69acc140d282b71a49"
   }
  }
 },
 "nbformat": 4,
 "nbformat_minor": 2
}
