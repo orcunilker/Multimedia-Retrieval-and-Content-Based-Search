{
 "cells": [
  {
   "cell_type": "markdown",
   "metadata": {},
   "source": [
    "<h2>Assignment Description</h2><h1>Assignment 0: An example</h1>\n",
    "<h2>General Information</h2>\n",
    "<p>Over the course of the following assignments, you will find a structure similar to this. This Assignment 0 is meant to help you familiarize yourself with the assignment and submission system used in this course and Jupyter Notebook in general.</p>\n",
    "<ul>\n",
    "    <li>All your tasks should be solved in <b>Python 3.9</b>.</li>\n",
    "<li>You will find each Task in a separate folder, named Task1, Task2 etc.</li>\n",
    "<li>Supplementary files (txt-files, videos etc.), as well as an overall Assignment description, can also be found in the assignment folder. </li>\n",
    "<li>Within each Task folder, you will find a Task Notebook (i.e. <strong>Task1.ipynb</strong>) that contains detailed descriptions about what you have to do, as well as code snippets that should support you in testing your own implementation.</li>\n",
    "<li>For each Task, provide your own implementation in the corresponding task folder in a Notebook called <strong>Implementation.ipynb</strong></li>\n",
    "<li><strong>Implementation.ipynb</strong> should implement all functions needed for the example calls in the corresponding Task description.</li>\n",
    "<li>Your Implementation notebook will be imported into the Task description (using the <strong>run</strong> command) and the example calls should result in correct output.</li>\n",
    "<li>You will find two example Tasks in Assignment 0 that should illustrate this functionality.</li>\n",
    "<li>In the end, your solution should be well presented inside the Task notebook. Everything that can be seen there serves as a  basis for the assessment meeting, so think about how you want to present your solution!</li>\n",
    "<li>For details on how to submit your assignment, see the \"Submission\" folder.</li>\n",
    "<li>Once you are done with everything, don't forget to generate a <b>requirements.txt</b> file. This is <b>mandatory</b> so we know which libraries and versions you were using.</li>\n",
    "    \n",
    "</ul>"
   ]
  },
  {
   "cell_type": "code",
   "execution_count": null,
   "metadata": {},
   "outputs": [],
   "source": [
    "#this generates the requirements file with all installed packages into the assignment folder\n",
    "!pip freeze >../requirements.txt"
   ]
  }
 ],
 "metadata": {
  "kernelspec": {
   "display_name": "Python 3 (ipykernel)",
   "language": "python",
   "name": "python3"
  },
  "language_info": {
   "codemirror_mode": {
    "name": "ipython",
    "version": 3
   },
   "file_extension": ".py",
   "mimetype": "text/x-python",
   "name": "python",
   "nbconvert_exporter": "python",
   "pygments_lexer": "ipython3",
   "version": "3.9.7"
  }
 },
 "nbformat": 4,
 "nbformat_minor": 4
}
