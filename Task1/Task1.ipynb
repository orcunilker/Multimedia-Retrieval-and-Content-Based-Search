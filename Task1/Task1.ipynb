{
 "cells": [
  {
   "cell_type": "markdown",
   "metadata": {},
   "source": [
    "## Task 1: Shot Cut Detection (30 Pt.)\n",
    "Evaluate the performance of two different visual-based shot cut detection algorithms, e.g.\n",
    "inter-frame difference and color histograms. Compare histograms using the\n",
    "Euclidean distance and Histogram intersection. In order to evaluate the\n",
    "performance of the implemented approaches download&nbsp;the provided ground truth for the\n",
    "videos of the TestSet. Run your shot cut detection approaches on all 5 videos\n",
    "of the TestSet and compare the results to the ground truth and compute true,\n",
    "false and missed shot boundaries. Additionally, compute recall, precision and\n",
    "F1.<br>\n",
    "<br>\n",
    "\n",
    "#### Answer the following questions:\n",
    "\n",
    "\n",
    "##### What are the strengths and the limitations of each approach? Show examples where the methods did not perform well. Why is this so?\n",
    "...\n",
    "##### Which similarity measure performs better? Why? \n",
    "...\n",
    "##### Add the average shot length per genre to your answers. Is there any relationship between (average) shot length and video genre? \n",
    "...\n",
    "##### Provide a table with the number of true, false and missed shot boundaries as well as recall, precision and F1. Additionally discuss the results.\n",
    "...\n",
    "\n"
   ]
  },
  {
   "cell_type": "code",
   "execution_count": null,
   "metadata": {},
   "outputs": [],
   "source": [
    "%run Implementation.ipynb\n",
    "\n",
    "df1, df2 = detect_and_compare_all(\"../videos/TestSet\")\n",
    "\n",
    "display(df1)\n",
    "display(df2)"
   ]
  }
 ],
 "metadata": {
  "kernelspec": {
   "display_name": "Python 3",
   "language": "python",
   "name": "python3"
  },
  "language_info": {
   "codemirror_mode": {
    "name": "ipython",
    "version": 3
   },
   "file_extension": ".py",
   "mimetype": "text/x-python",
   "name": "python",
   "nbconvert_exporter": "python",
   "pygments_lexer": "ipython3",
   "version": "3.9.7"
  }
 },
 "nbformat": 4,
 "nbformat_minor": 2
}
