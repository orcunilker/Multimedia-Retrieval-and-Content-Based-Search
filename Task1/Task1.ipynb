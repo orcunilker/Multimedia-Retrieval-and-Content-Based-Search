{
 "cells": [
  {
   "cell_type": "markdown",
   "metadata": {},
   "source": [
    "<h2>Task 1 - Preprocessing, signal manipulation (20 pts)</h2><p>In order to\n",
    "use the given video files for calculation and analysis of the audio track, the\n",
    "files have to be preprocessed for efficiency, performance, and system resource\n",
    "reasons. The following transformation steps have to be performed. The given\n",
    "figure illustrates how to work them off.</p>\n",
    "\n",
    "<ul>\n",
    " <li>Extraction and Decoding of the\n",
    "     AAC-encoded audio track out of the MPEG-4 video files</li>\n",
    " <ul>\n",
    "  <li>You can easily achieve this\n",
    "      using FFMPEG and the following command:&nbsp;</li>\n",
    "  <li>ffmpeg\n",
    "      -i &lt;input_file.mp4&gt; -acodec pcm_s16le -y &lt;output_file.wav&gt;</li>\n",
    "   <li>Use Python subprocesses to make such an FFMPEG call.</li>\n",
    " </ul>\n",
    " <li>Resampling (reduction of sampling\n",
    "     frequency down to 22050/11025/8000 Hz).</li>\n",
    " <li>Normalization of the audio\n",
    "     files</li>\n",
    " <li>Downmix all included channels\n",
    "     down to one (--&gt; mono signal)</li>\n",
    "</ul>\n",
    "\n",
    "<p>Using scipy\n",
    "or LibROSA &nbsp;in <b>Python</b>, you can\n",
    "easily read PCM-encoded WAV-files. Check,</p>\n",
    "\n",
    "<p><span lang=\"EN-GB\"><a href=\"https://docs.scipy.org/doc/scipy-0.14.0/reference/generated/scipy.io.wavfile.read.html\"><span lang=\"EN-US\">https://docs.scipy.org/doc/scipy-0.14.0/reference/generated/scipy.io.wavfile.read.html</span></a></span></p>\n",
    "\n",
    "<p><span lang=\"EN-GB\"><a href=\"https://librosa.github.io/librosa/tutorial.html\"><span lang=\"EN-US\">https://librosa.github.io/librosa/tutorial.html</span></a></span></p>\n",
    "\n",
    "<p>Your samples\n",
    "can then be further processed as they are stored in a numpy array.</p><br><p><img src=\"imgs/preprocess.png\" alt=\"Preprocessing Steps\" width=\"200\" height=\"270\"></p><p>For these\n",
    "transformation steps (<b>except</b> audio track extraction and decoding),\n",
    "provide a <b>Jupyter Notebook</b> that combines all the necessary steps. Prepare a plot to be shown in the below call, using <b>matplotlib</b>.\n"
   ]
  },
  {
   "cell_type": "code",
   "execution_count": null,
   "metadata": {},
   "outputs": [],
   "source": [
    "#import your solution here\n",
    "%run Implementation.ipynb\n",
    "\n",
    "preprocess(input_file = \"../videos/DevSet/01_DevilsAdvocate_02.mp4\", output_file = \"../testfile_processed.wav\")"
   ]
  },
  {
   "cell_type": "markdown",
   "metadata": {},
   "source": [
    "Do also consider a function to preprocess all audio files within a directory, so that you can conveniently sample all provided video files at once:"
   ]
  },
  {
   "cell_type": "code",
   "execution_count": null,
   "metadata": {},
   "outputs": [],
   "source": [
    "%run Implementation.ipynb\n",
    "\n",
    "preprocessDirectory(\"../videos/DevSet\")"
   ]
  },
  {
   "cell_type": "markdown",
   "metadata": {},
   "source": [
    "### Further Questions\n",
    "Critically think about the following questions and answer them below</p>\n",
    "\n",
    "\n",
    " #### 1. What is the objective of each step and why are they necessary or needless?\n",
    " ...\n",
    "\n",
    " #### 2. What is the impact of the chosen sampling frequency with regard to further processing steps?\n",
    " ...\n",
    "\n",
    " #### 3. Think about feasible strategies, alternative procedures, and their consequences. What could be common pitfalls?\n",
    " ...\n",
    "\n",
    " #### 4. What are the consequences for the resulting audio files with respect to the extractable information before and after the processes?\n",
    " *Provide two figures (for one exemplary file only) which demonstrates the effects on the signal before and after the transformation. Choose proper axis ranges in order to make the changes clearly apparent.*\n",
    " \n",
    " ..."
   ]
  },
  {
   "cell_type": "markdown",
   "metadata": {},
   "source": [
    "### You should turn in: ### \n",
    "* Answers to the given questions\n",
    "* 2 figures\n",
    "* jupyter notebook (Implementation) that performs the preprocessing steps"
   ]
  },
  {
   "cell_type": "markdown",
   "metadata": {},
   "source": []
  }
 ],
 "metadata": {
  "kernelspec": {
   "display_name": "Python 3 (ipykernel)",
   "language": "python",
   "name": "python3"
  },
  "language_info": {
   "codemirror_mode": {
    "name": "ipython",
    "version": 3
   },
   "file_extension": ".py",
   "mimetype": "text/x-python",
   "name": "python",
   "nbconvert_exporter": "python",
   "pygments_lexer": "ipython3",
   "version": "3.9.7"
  }
 },
 "nbformat": 4,
 "nbformat_minor": 4
}
