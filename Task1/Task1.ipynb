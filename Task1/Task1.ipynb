{
 "cells": [
  {
   "cell_type": "markdown",
   "metadata": {},
   "source": [
    "<h2>Task 1: TFIDF Calculation (25 Points)</h2>\n",
    "<p>Calculate the term frequency (tf), document frequency (df), inverse document frequency (idf), and the tf-idf frequency for the terms of all the documents contained in a given document collection file (collection1.txt) provided for this task.</p>\n",
    "<p>Implement the required function.</p>\n",
    "<h3>Tasks:</h3><ul>\n",
    "<li>Write a Python function (calculate_tfidf) that parses a given document collection containing an arbitrary amount of terms and documents and calculates the corresponding frequencies.</li>\n",
    "<li>The function should exhibit the following signature, where&nbsp;collection holds the path to the document collection to be analyzed and processed:\n",
    "</li>\n",
    "<li>Test your implementation using the following call on the provided document collections. The cell should output your results as a Pandas Dataframe. </li>"
   ]
  },
  {
   "cell_type": "code",
   "execution_count": null,
   "metadata": {},
   "outputs": [],
   "source": [
    "#import your own solution here \n",
    "%run Implementation.ipynb\n",
    "\n",
    "table_tfidf = calculate_tfidf('../collection1.txt')\n",
    "table_tfidf"
   ]
  },
  {
   "cell_type": "markdown",
   "metadata": {},
   "source": [
    "<li>Regarding the Dataframe, store the following values in separate columns:</li>\n",
    "<ul>\n",
    "<li>the sorted inverted term indices (vocabulary terms/tokens)</li>\n",
    "<li>the overall term frequency</li>\n",
    "<li>the individual term frequencies pertaining to each document</li>\n",
    "<li>the document and inverse document frequency</li>\n",
    "<li>the tf-idf values for each term and document</li>\n",
    "</ul>\n",
    "<li>The&nbsp;calculate_tfidf() function should return all results in the form of a Pandas dataframe&nbsp;</li>\n",
    "</ul>\n",
    "\n",
    "Consider an example collection that looks like this:\n",
    "\n",
    "<b> Doc1: this example is an example <br>\n",
    "Doc2: this is yet another example </b>\n",
    "\n",
    "Here is how your table output could look like (for the example.txt file):\n",
    "\n",
    "<table align=\"left\" border=\\1\\ class=\\dataframe\\>\n",
    "         <thead>\n",
    "           <tr style=\\text-align: left;\\>\n",
    "             <th>sorted inv. term indices</th>\n",
    "             <th>overall tf</th>\n",
    "             <th>individual tf</th>\n",
    "             <th>df / idf</th>\n",
    "             <th>individual tf-idf</th>\n",
    "           </tr>\n",
    "         </thead>\n",
    "         <tbody>\n",
    "           <tr>\n",
    "             <td>an</td>\n",
    "             <td>1</td>\n",
    "             <td>[1, 0]</td>\n",
    "             <td>[1, 0.3010]</td>\n",
    "             <td>[0.3010, 0.0000]</td>\n",
    "           </tr>\n",
    "           <tr>\n",
    "             <td>another</td>\n",
    "             <td>1</td>\n",
    "             <td>[0, 1]</td>\n",
    "             <td>[1, 0.3010]</td>\n",
    "             <td>[0.0000, 0.3010]</td>\n",
    "           </tr>\n",
    "           <tr>\n",
    "             <td>example</td>\n",
    "             <td>3</td>\n",
    "             <td>[2, 1]</td>\n",
    "             <td>[2, 0.0000]</td>\n",
    "             <td>[0.0000, 0.0000]</td>\n",
    "           </tr>\n",
    "           <tr>\n",
    "             <td>is</td>\n",
    "             <td>2</td>\n",
    "             <td>[1, 1]</td>\n",
    "             <td>[2, 0.0000]</td>\n",
    "             <td>[0.0000, 0.0000]</td>\n",
    "           </tr>\n",
    "           <tr>\n",
    "             <td>this</td>\n",
    "             <td>2</td>\n",
    "             <td>[1, 1]</td>\n",
    "             <td>[2, 0.0000]</td>\n",
    "             <td>[0.0000, 0.0000]</td>\n",
    "           </tr>\n",
    "           <tr>\n",
    "             <td>yet</td>\n",
    "             <td>1</td>\n",
    "             <td>[0, 1]</td>\n",
    "             <td>[1, 0.3010]</td>\n",
    "             <td>[0.0000, 0.3010]</td>\n",
    "           </tr>\n",
    "         </tbody>\n",
    "       </table>"
   ]
  },
  {
   "cell_type": "markdown",
   "metadata": {},
   "source": [
    "<h3>Remarks:</h3>\n",
    "<ul>\n",
    "<li>Lemmatization and tokenization methods do not need to be considered</li>\n",
    "<li>Calculate the inverse document frequency using the logarithm to the base 10</li>\n",
    "<li>Ideally, the&nbsp;calculate_tfidf&nbsp;function should work with document collections containing an arbitrary&nbsp;amount of documents and terms</li>\n",
    "</ul>"
   ]
  },
  {
   "cell_type": "markdown",
   "metadata": {},
   "source": [
    "### Further Questions:\n",
    "Critically think about the following question and provide your answers within this notepad.\n",
    "#### 1. What are the shortcomings of the raw term frequency calculation and how do they affect a retrieval system?\n",
    "..."
   ]
  },
  {
   "cell_type": "markdown",
   "metadata": {},
   "source": [
    "#### 2. Evaluate/discuss the following statements:\n",
    "* Using a tf-idf weighting scheme, the weight of a term t in a document d is lowest when t occurs many times in many documents\n",
    "    * ...\n",
    "* Using a tf-idf weighting scheme, the weight of a term t in a document d is highest when t occurs very often in all documents\n",
    "    * ...\n",
    "* Using a tf-idf weighting scheme, the weight of a term t in a document d is highest when t occurs many times in few documents\n",
    "    * ...\n",
    "* Using a tf-idf weighting scheme, the weight of a term t in a document d is growing when the occurrence of t increases proportionally with the amount of documents t occurs in\n",
    "    * ...\n"
   ]
  },
  {
   "cell_type": "markdown",
   "metadata": {},
   "source": [
    "#### 3. Why is a document-level statistic for term weighting to be preferred over a collection-wide statistic?\n",
    "..."
   ]
  },
  {
   "cell_type": "markdown",
   "metadata": {},
   "source": []
  }
 ],
 "metadata": {
  "kernelspec": {
   "display_name": "Python 3",
   "language": "python",
   "name": "python3"
  },
  "language_info": {
   "codemirror_mode": {
    "name": "ipython",
    "version": 3
   },
   "file_extension": ".py",
   "mimetype": "text/x-python",
   "name": "python",
   "nbconvert_exporter": "python",
   "pygments_lexer": "ipython3",
   "version": "3.9.7"
  }
 },
 "nbformat": 4,
 "nbformat_minor": 2
}
