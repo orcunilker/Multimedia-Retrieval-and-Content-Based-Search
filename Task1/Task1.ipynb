{
 "cells": [
  {
   "cell_type": "markdown",
   "metadata": {},
   "source": [
    "<h2>Task 1: Hello World (50 Points)</h2>\n",
    "<p>Write a Hello World program.</p>\n",
    "<p>Use Python to implement the required function.</p>\n",
    "<h3>Tasks:</h3><ul>\n",
    "<li>Write a Python function (<strong>print_hello</strong>) that prints \"Hello World\".</li>\n",
    "<li>Do this in a separate notebook in the current folder (<strong>Task1</strong>) called <strong>\"Implementation.ipynb\"</strong>.</li>\n",
    "<li>Import said <strong>Implementation.ipynb</strong> notebook and test your implementation using the following call. </li>"
   ]
  },
  {
   "cell_type": "code",
   "execution_count": 15,
   "metadata": {},
   "outputs": [
    {
     "name": "stdout",
     "output_type": "stream",
     "text": [
      "hello!\n"
     ]
    }
   ],
   "source": [
    "#import your own solution here using %run\n",
    "%run Implementation.ipynb\n",
    "\n",
    "print_hello()"
   ]
  }
 ],
 "metadata": {
  "kernelspec": {
   "display_name": "Python 3",
   "language": "python",
   "name": "python3"
  },
  "language_info": {
   "codemirror_mode": {
    "name": "ipython",
    "version": 3
   },
   "file_extension": ".py",
   "mimetype": "text/x-python",
   "name": "python",
   "nbconvert_exporter": "python",
   "pygments_lexer": "ipython3",
   "version": "3.9.7"
  }
 },
 "nbformat": 4,
 "nbformat_minor": 2
}
