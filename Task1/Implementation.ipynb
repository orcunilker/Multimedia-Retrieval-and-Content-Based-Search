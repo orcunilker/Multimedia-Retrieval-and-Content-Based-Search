{
 "cells": [
  {
   "cell_type": "code",
   "execution_count": 85,
   "metadata": {},
   "outputs": [],
   "source": [
    "import IPython\n",
    "import numpy as np\n",
    "import cv2\n",
    "import pandas as pd\n",
    "import os\n",
    "\n",
    "from numpy import median"
   ]
  },
  {
   "cell_type": "code",
   "execution_count": 108,
   "metadata": {},
   "outputs": [],
   "source": [
    "def detect_and_compare_all(input_directory: str):\n",
    "    dataFrame1 = pd.DataFrame(columns=['File'])\n",
    "    dataFrame2 = pd.DataFrame(columns=['File'])\n",
    "    \n",
    "    histogramListsOfVideos = []\n",
    "    # Get Histograms\n",
    "    if os.path.isdir(input_directory):\n",
    "        for filename in os.listdir(input_directory):\n",
    "            filepath = os.path.join(input_directory, filename)\n",
    "            name, extension = os.path.splitext(filename)\n",
    "            if os.path.isfile(filepath) and extension.upper() in ['.MP4']: #just take these extensions\n",
    "                cap = cv2.VideoCapture(filepath)\n",
    "                histogramList = []\n",
    "                while(cap.isOpened()):\n",
    "                    ret, frame = cap.read()\n",
    "                    if not ret:\n",
    "                        cap.release()\n",
    "                    if ret: \n",
    "                        hist = cv2.calcHist([frame],[2],None,[256],[0,256]) #tutorial #https://docs.opencv.org/4.x/d1/db7/tutorial_py_histogram_begins.html\n",
    "                        histogramList.append(hist)\n",
    "            histogramListsOfVideos.append(histogramList)\n",
    "            \n",
    "            \n",
    "    # Get Euclidian Distances between consecutive frames\n",
    "    euclDistListsOfVideos = []\n",
    "    for histogramList in histogramListsOfVideos:\n",
    "        euclDistList = []\n",
    "        for i in np.arange(1, len(histogramList)):\n",
    "            a = histogramList[i]\n",
    "            b = histogramList[i-1]\n",
    "            eucl = np.linalg.norm(a-b)\n",
    "            euclDistList.append(eucl)\n",
    "        euclDistListsOfVideos.append(euclDistList)\n",
    "        #display(euclDistList)\n",
    "    \n",
    "    \n",
    "    # Determine Cuts based on histogram eucl distances\n",
    "    shotCutInFrameListsOfVideos = []\n",
    "    for euclDistList in euclDistListsOfVideos:\n",
    "        shotCutInFrameList = []\n",
    "        medianDist = median(euclDistList)\n",
    "        for i in np.arange(0, len(euclDistList)):\n",
    "            if euclDistList[i] > medianDist * 6: # if eucl over 6 * the median, then its a cut\n",
    "                shotCutInFrameList.append(i + 3) #because of Ground-Truth 3+\n",
    "        shotCutInFrameListsOfVideos.append(shotCutInFrameList)\n",
    "        display(shotCutInFrameList)\n",
    "    \n",
    "    \n",
    "    \n",
    "    \n",
    "    return dataFrame1, dataFrame2"
   ]
  },
  {
   "cell_type": "code",
   "execution_count": 109,
   "metadata": {},
   "outputs": [
    {
     "data": {
      "text/plain": [
       "[32,\n",
       " 35,\n",
       " 36,\n",
       " 38,\n",
       " 47,\n",
       " 60,\n",
       " 78,\n",
       " 79,\n",
       " 80,\n",
       " 81,\n",
       " 95,\n",
       " 129,\n",
       " 181,\n",
       " 207,\n",
       " 223,\n",
       " 237,\n",
       " 248,\n",
       " 272,\n",
       " 301,\n",
       " 324,\n",
       " 343,\n",
       " 364,\n",
       " 393,\n",
       " 415,\n",
       " 434,\n",
       " 450,\n",
       " 479,\n",
       " 500,\n",
       " 533,\n",
       " 556,\n",
       " 564,\n",
       " 587,\n",
       " 588,\n",
       " 615,\n",
       " 634,\n",
       " 658,\n",
       " 684,\n",
       " 712,\n",
       " 726,\n",
       " 746,\n",
       " 782,\n",
       " 800,\n",
       " 832,\n",
       " 857,\n",
       " 885,\n",
       " 908,\n",
       " 931,\n",
       " 951,\n",
       " 977,\n",
       " 991,\n",
       " 1016,\n",
       " 1020,\n",
       " 1021,\n",
       " 1025,\n",
       " 1027,\n",
       " 1028,\n",
       " 1041,\n",
       " 1065,\n",
       " 1082,\n",
       " 1094,\n",
       " 1106,\n",
       " 1141,\n",
       " 1160,\n",
       " 1171,\n",
       " 1186,\n",
       " 1196,\n",
       " 1217,\n",
       " 1242,\n",
       " 1258,\n",
       " 1277,\n",
       " 1305,\n",
       " 1319,\n",
       " 1333,\n",
       " 1350,\n",
       " 1376,\n",
       " 1426,\n",
       " 1435]"
      ]
     },
     "metadata": {},
     "output_type": "display_data"
    },
    {
     "data": {
      "text/plain": [
       "[90, 151, 262, 435, 548, 609, 675, 743, 791, 850, 927, 987, 1180]"
      ]
     },
     "metadata": {},
     "output_type": "display_data"
    },
    {
     "data": {
      "text/plain": [
       "[186,\n",
       " 187,\n",
       " 342,\n",
       " 459,\n",
       " 486,\n",
       " 522,\n",
       " 556,\n",
       " 619,\n",
       " 730,\n",
       " 800,\n",
       " 836,\n",
       " 947,\n",
       " 983,\n",
       " 984,\n",
       " 1039,\n",
       " 1145,\n",
       " 1275,\n",
       " 1331]"
      ]
     },
     "metadata": {},
     "output_type": "display_data"
    },
    {
     "data": {
      "text/plain": [
       "[1184, 1391]"
      ]
     },
     "metadata": {},
     "output_type": "display_data"
    },
    {
     "data": {
      "text/plain": [
       "[270,\n",
       " 316,\n",
       " 382,\n",
       " 438,\n",
       " 471,\n",
       " 507,\n",
       " 547,\n",
       " 656,\n",
       " 881,\n",
       " 941,\n",
       " 977,\n",
       " 1052,\n",
       " 1091,\n",
       " 1140,\n",
       " 1162,\n",
       " 1300,\n",
       " 1369]"
      ]
     },
     "metadata": {},
     "output_type": "display_data"
    },
    {
     "data": {
      "text/html": [
       "<div>\n",
       "<style scoped>\n",
       "    .dataframe tbody tr th:only-of-type {\n",
       "        vertical-align: middle;\n",
       "    }\n",
       "\n",
       "    .dataframe tbody tr th {\n",
       "        vertical-align: top;\n",
       "    }\n",
       "\n",
       "    .dataframe thead th {\n",
       "        text-align: right;\n",
       "    }\n",
       "</style>\n",
       "<table border=\"1\" class=\"dataframe\">\n",
       "  <thead>\n",
       "    <tr style=\"text-align: right;\">\n",
       "      <th></th>\n",
       "      <th>File</th>\n",
       "    </tr>\n",
       "  </thead>\n",
       "  <tbody>\n",
       "  </tbody>\n",
       "</table>\n",
       "</div>"
      ],
      "text/plain": [
       "Empty DataFrame\n",
       "Columns: [File]\n",
       "Index: []"
      ]
     },
     "metadata": {},
     "output_type": "display_data"
    },
    {
     "data": {
      "text/html": [
       "<div>\n",
       "<style scoped>\n",
       "    .dataframe tbody tr th:only-of-type {\n",
       "        vertical-align: middle;\n",
       "    }\n",
       "\n",
       "    .dataframe tbody tr th {\n",
       "        vertical-align: top;\n",
       "    }\n",
       "\n",
       "    .dataframe thead th {\n",
       "        text-align: right;\n",
       "    }\n",
       "</style>\n",
       "<table border=\"1\" class=\"dataframe\">\n",
       "  <thead>\n",
       "    <tr style=\"text-align: right;\">\n",
       "      <th></th>\n",
       "      <th>File</th>\n",
       "    </tr>\n",
       "  </thead>\n",
       "  <tbody>\n",
       "  </tbody>\n",
       "</table>\n",
       "</div>"
      ],
      "text/plain": [
       "Empty DataFrame\n",
       "Columns: [File]\n",
       "Index: []"
      ]
     },
     "metadata": {},
     "output_type": "display_data"
    }
   ],
   "source": [
    "df1, df2 = detect_and_compare_all(\"../videos/TestSet\")\n",
    "\n",
    "display(df1)\n",
    "display(df2)"
   ]
  }
 ],
 "metadata": {
  "kernelspec": {
   "display_name": "Python 3",
   "language": "python",
   "name": "python3"
  },
  "language_info": {
   "codemirror_mode": {
    "name": "ipython",
    "version": 3
   },
   "file_extension": ".py",
   "mimetype": "text/x-python",
   "name": "python",
   "nbconvert_exporter": "python",
   "pygments_lexer": "ipython3",
   "version": "3.9.7"
  }
 },
 "nbformat": 4,
 "nbformat_minor": 2
}
