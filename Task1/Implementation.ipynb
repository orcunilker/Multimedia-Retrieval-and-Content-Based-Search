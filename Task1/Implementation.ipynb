{
 "cells": [
  {
   "cell_type": "code",
   "execution_count": 92,
   "metadata": {},
   "outputs": [],
   "source": [
    "import librosa\n",
    "import librosa.display\n",
    "import subprocess\n",
    "\n",
    "import matplotlib.pyplot as plt\n",
    "import soundfile as sf\n",
    "\n",
    "import os"
   ]
  },
  {
   "cell_type": "code",
   "execution_count": 89,
   "metadata": {},
   "outputs": [],
   "source": [
    "# with tutorial by librosa \n",
    "# https://librosa.org/doc/main/generated/librosa.load.html\n",
    "# https://librosa.org/doc/main/generated/librosa.resample.html\n",
    "# https://librosa.org/doc/main/generated/librosa.util.normalize.html\n",
    "# https://librosa.org/doc/main/generated/librosa.to_mono.html\n",
    "\n",
    "# writing to file https://pysoundfile.readthedocs.io/en/0.8.1/#soundfile.write\n",
    "\n",
    "def preprocess(input_file: str, output_file: str, target_sr: int = 22050):\n",
    "    # extract wav with ffmpeg\n",
    "    subprocess.run(['ffmpeg', '-i', input_file, '-acodec' ,'pcm_s16le', '-y', output_file])\n",
    "    \n",
    "    # load with librosa\n",
    "    y, orig_sr = librosa.load(output_file, sr=None, mono=False) # loading file with original sr\n",
    "    \n",
    "    # resample\n",
    "    y_resampled = librosa.resample(y, orig_sr, target_sr)\n",
    "    \n",
    "    # normalization\n",
    "    y_normalized = librosa.util.normalize(y_resampled, axis=1)\n",
    "    \n",
    "    # downmix to mono\n",
    "    y_mono = librosa.to_mono(y_normalized)\n",
    "    \n",
    "    # overwrite extracted file\n",
    "    sf.write(output_file, y_mono, target_sr)\n",
    "    \n",
    "    return y_mono\n",
    "    "
   ]
  },
  {
   "cell_type": "code",
   "execution_count": 91,
   "metadata": {},
   "outputs": [
    {
     "name": "stderr",
     "output_type": "stream",
     "text": [
      "ffmpeg version N-110422-g7b2851b290-tessus  https://evermeet.cx/ffmpeg/  Copyright (c) 2000-2023 the FFmpeg developers\n",
      "  built with Apple clang version 11.0.0 (clang-1100.0.33.17)\n",
      "  configuration: --cc=/usr/bin/clang --prefix=/opt/ffmpeg --extra-version=tessus --enable-avisynth --enable-fontconfig --enable-gpl --enable-libaom --enable-libass --enable-libbluray --enable-libdav1d --enable-libfreetype --enable-libgsm --enable-libmodplug --enable-libmp3lame --enable-libmysofa --enable-libopencore-amrnb --enable-libopencore-amrwb --enable-libopenh264 --enable-libopenjpeg --enable-libopus --enable-librubberband --enable-libshine --enable-libsnappy --enable-libsoxr --enable-libspeex --enable-libtheora --enable-libtwolame --enable-libvidstab --enable-libvmaf --enable-libvo-amrwbenc --enable-libvorbis --enable-libvpx --enable-libwebp --enable-libx264 --enable-libx265 --enable-libxavs --enable-libxvid --enable-libzimg --enable-libzmq --enable-libzvbi --enable-version3 --pkg-config-flags=--static --disable-ffplay\n",
      "  libavutil      58.  6.100 / 58.  6.100\n",
      "  libavcodec     60. 10.100 / 60. 10.100\n",
      "  libavformat    60.  5.100 / 60.  5.100\n",
      "  libavdevice    60.  2.100 / 60.  2.100\n",
      "  libavfilter     9.  7.100 /  9.  7.100\n",
      "  libswscale      7.  2.100 /  7.  2.100\n",
      "  libswresample   4. 11.100 /  4. 11.100\n",
      "  libpostproc    57.  2.100 / 57.  2.100\n",
      "Input #0, mov,mp4,m4a,3gp,3g2,mj2, from '../videos/DevSet/03_ArcticTale_04.mp4':\n",
      "  Metadata:\n",
      "    major_brand     : isom\n",
      "    minor_version   : 512\n",
      "    compatible_brands: isomiso2avc1mp41\n",
      "    encoder         : Lavf56.26.101\n",
      "  Duration: 00:01:00.02, start: 0.000000, bitrate: 365 kb/s\n",
      "  Stream #0:0[0x1](und): Video: h264 (High) (avc1 / 0x31637661), yuv420p(progressive), 426x240, 229 kb/s, 23.98 fps, 23.98 tbr, 24k tbn (default)\n",
      "    Metadata:\n",
      "      handler_name    : VideoHandler\n",
      "      vendor_id       : [0][0][0][0]\n",
      "  Stream #0:1[0x2](und): Audio: aac (LC) (mp4a / 0x6134706D), 44100 Hz, stereo, fltp, 128 kb/s (default)\n",
      "    Metadata:\n",
      "      handler_name    : SoundHandler\n",
      "      vendor_id       : [0][0][0][0]\n",
      "Stream mapping:\n",
      "  Stream #0:1 -> #0:0 (aac (native) -> pcm_s16le (native))\n",
      "Press [q] to stop, [?] for help\n",
      "Output #0, wav, to '../testfile_processed.wav':\n",
      "  Metadata:\n",
      "    major_brand     : isom\n",
      "    minor_version   : 512\n",
      "    compatible_brands: isomiso2avc1mp41\n",
      "    ISFT            : Lavf60.5.100\n",
      "  Stream #0:0(und): Audio: pcm_s16le ([1][0][0][0] / 0x0001), 44100 Hz, stereo, s16, 1411 kb/s (default)\n",
      "    Metadata:\n",
      "      handler_name    : SoundHandler\n",
      "      vendor_id       : [0][0][0][0]\n",
      "      encoder         : Lavc60.10.100 pcm_s16le\n",
      "[out#0/wav @ 0x7fdb18109ec0] video:0kB audio:10338kB subtitle:0kB other streams:0kB global headers:0kB muxing overhead: 0.000737%\n",
      "size=   10338kB time=00:00:59.98 bitrate=1411.8kbits/s speed= 863x    \n",
      "/var/folders/kv/rlm1b_915wsbvd995jlr3f880000gn/T/ipykernel_50497/2977583747.py:17: FutureWarning: Pass orig_sr=44100, target_sr=22050 as keyword args. From version 0.10 passing these as positional arguments will result in an error\n",
      "  y_resampled = librosa.resample(y, orig_sr, target_sr)\n"
     ]
    }
   ],
   "source": [
    "y = preprocess(input_file = \"../videos/DevSet/03_ArcticTale_04.mp4\", output_file = \"../testfile_processed.wav\", target_sr = 22050)"
   ]
  },
  {
   "cell_type": "code",
   "execution_count": 85,
   "metadata": {},
   "outputs": [],
   "source": [
    "# https://librosa.org/doc/main/generated/librosa.display.waveshow.html\n",
    "# Plot\n",
    "\n",
    "# plt.figure(figsize=(12, 4))\n",
    "# librosa.display.waveshow(y, sr=22050)\n",
    "# plt.xlabel('Time (s)')\n",
    "# plt.ylabel('Amplitude')\n",
    "# plt.show()\n"
   ]
  },
  {
   "cell_type": "code",
   "execution_count": 93,
   "metadata": {},
   "outputs": [],
   "source": [
    "# partly taken from my MRE Assignment 1\n",
    "\n",
    "def preprocessDirectory(input_directory: str, output_directory: str, target_sr: int = 22050):\n",
    "    os.makedirs(output_directory, exist_ok=True)   # make output directory if not existant\n",
    "    \n",
    "    # If directory or just one file\n",
    "    if os.path.isdir(input_directory):\n",
    "        for filename in os.listdir(input_directory):\n",
    "            filepath = os.path.join(input_directory, filename)\n",
    "            name, extension = os.path.splitext(filename)\n",
    "            if os.path.isfile(filepath) and extension.upper() in ['.MP4']: #just take these extensions\n",
    "                output_filepath = os.path.join(output_directory, name + '.wav')\n",
    "                preprocess(input_file = filepath, output_file = output_filepath, target_sr = target_sr)"
   ]
  },
  {
   "cell_type": "code",
   "execution_count": null,
   "metadata": {},
   "outputs": [],
   "source": []
  }
 ],
 "metadata": {
  "kernelspec": {
   "display_name": "Python 3 (ipykernel)",
   "language": "python",
   "name": "python3"
  },
  "language_info": {
   "codemirror_mode": {
    "name": "ipython",
    "version": 3
   },
   "file_extension": ".py",
   "mimetype": "text/x-python",
   "name": "python",
   "nbconvert_exporter": "python",
   "pygments_lexer": "ipython3",
   "version": "3.9.7"
  }
 },
 "nbformat": 4,
 "nbformat_minor": 4
}
