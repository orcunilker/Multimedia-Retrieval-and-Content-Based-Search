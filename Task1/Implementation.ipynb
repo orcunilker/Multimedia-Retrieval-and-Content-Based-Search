{
 "cells": [
  {
   "cell_type": "code",
   "execution_count": null,
   "metadata": {},
   "outputs": [],
   "source": [
    "import librosa\n",
    "import librosa.display\n",
    "import subprocess\n",
    "\n",
    "import matplotlib.pyplot as plt\n",
    "import soundfile as sf\n",
    "\n",
    "import os"
   ]
  },
  {
   "cell_type": "code",
   "execution_count": null,
   "metadata": {},
   "outputs": [],
   "source": [
    "# with tutorial by librosa \n",
    "# https://librosa.org/doc/main/generated/librosa.load.html\n",
    "# https://librosa.org/doc/main/generated/librosa.resample.html\n",
    "# https://librosa.org/doc/main/generated/librosa.util.normalize.html\n",
    "# https://librosa.org/doc/main/generated/librosa.to_mono.html\n",
    "\n",
    "# writing to file https://pysoundfile.readthedocs.io/en/0.8.1/#soundfile.write\n",
    "\n",
    "def preprocess(input_file: str, output_file: str, target_sr: int = 22050):\n",
    "    # extract wav with ffmpeg\n",
    "    subprocess.run(['ffmpeg', '-i', input_file, '-acodec' ,'pcm_s16le', '-y', output_file])\n",
    "    \n",
    "    # load with librosa\n",
    "    y, orig_sr = librosa.load(output_file, sr=None, mono=False) # loading file with original sr\n",
    "    \n",
    "    # resample\n",
    "    y_resampled = librosa.resample(y, orig_sr, target_sr)\n",
    "    \n",
    "    # normalization\n",
    "    y_normalized = librosa.util.normalize(y_resampled, axis=1)\n",
    "    \n",
    "    # downmix to mono\n",
    "    y_mono = librosa.to_mono(y_normalized)\n",
    "    \n",
    "    # overwrite extracted file\n",
    "    sf.write(output_file, y_mono, target_sr)\n",
    "    \n",
    "    return y_mono\n",
    "    "
   ]
  },
  {
   "cell_type": "code",
   "execution_count": null,
   "metadata": {},
   "outputs": [],
   "source": [
    "y = preprocess(input_file = \"../videos/DevSet/03_ArcticTale_04.mp4\", output_file = \"../testfile_processed_22050.wav\", target_sr = 22050)\n",
    "y = preprocess(input_file = \"../videos/DevSet/03_ArcticTale_04.mp4\", output_file = \"../testfile_processed_11025.wav\", target_sr = 11025)\n",
    "y = preprocess(input_file = \"../videos/DevSet/03_ArcticTale_04.mp4\", output_file = \"../testfile_processed_8000.wav\", target_sr = 8000)"
   ]
  },
  {
   "cell_type": "code",
   "execution_count": null,
   "metadata": {},
   "outputs": [],
   "source": [
    "# https://librosa.org/doc/main/generated/librosa.display.waveshow.html\n",
    "# Plot\n",
    "\n",
    "# plt.figure(figsize=(12, 4))\n",
    "# librosa.display.waveshow(y, sr=22050)\n",
    "# plt.xlabel('Time (s)')\n",
    "# plt.ylabel('Amplitude')\n",
    "# plt.show()\n"
   ]
  },
  {
   "cell_type": "code",
   "execution_count": null,
   "metadata": {},
   "outputs": [],
   "source": [
    "# partly taken from my MRE Assignment 1\n",
    "\n",
    "def preprocessDirectory(input_directory: str, output_directory: str, target_sr: int = 22050):\n",
    "    os.makedirs(output_directory, exist_ok=True)   # make output directory if not existant\n",
    "    \n",
    "    # If directory or just one file\n",
    "    if os.path.isdir(input_directory):\n",
    "        for filename in os.listdir(input_directory):\n",
    "            filepath = os.path.join(input_directory, filename)\n",
    "            name, extension = os.path.splitext(filename)\n",
    "            if os.path.isfile(filepath) and extension.upper() in ['.MP4']: #just take these extensions\n",
    "                output_filepath = os.path.join(output_directory, name + '.wav')\n",
    "                preprocess(input_file = filepath, output_file = output_filepath, target_sr = target_sr)"
   ]
  },
  {
   "cell_type": "code",
   "execution_count": null,
   "metadata": {},
   "outputs": [],
   "source": []
  }
 ],
 "metadata": {
  "kernelspec": {
   "display_name": "Python 3 (ipykernel)",
   "language": "python",
   "name": "python3"
  },
  "language_info": {
   "codemirror_mode": {
    "name": "ipython",
    "version": 3
   },
   "file_extension": ".py",
   "mimetype": "text/x-python",
   "name": "python",
   "nbconvert_exporter": "python",
   "pygments_lexer": "ipython3",
   "version": "3.9.7"
  }
 },
 "nbformat": 4,
 "nbformat_minor": 4
}
