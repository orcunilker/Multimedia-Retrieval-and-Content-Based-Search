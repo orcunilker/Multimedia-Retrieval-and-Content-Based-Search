{
 "cells": [
  {
   "cell_type": "markdown",
   "metadata": {},
   "source": [
    "<h2>Task 4: Link Analysis and PageRank Calculation (25 Points)</h2>\n",
    "<p>Write a Python function that implements the&nbsp;<strong>PageRank algorithm</strong>&nbsp;using the&nbsp;<strong>power iteration method</strong>&nbsp;as outlined in Chapter 21 of the Information Retrieval book.</p>\n",
    "<p>The function&nbsp;page_rank()&nbsp;should calculate the PageRank of an adjacency matrix using a given teleport factor alpha, an initial transition probability distribution vector, and a given number of iterations.</p>\n",
    "<h3>Tasks:</h3>\n",
    "<ul>\n",
    "<li>Using the adjacency matrix:&nbsp;</li>"
   ]
  },
  {
   "cell_type": "code",
   "execution_count": null,
   "metadata": {},
   "outputs": [],
   "source": [
    "adj_matrix = [[0, 1, 0], [1, 0, 1], [0, 1, 0]]"
   ]
  },
  {
   "cell_type": "markdown",
   "metadata": {},
   "source": [
    "<li>Transform the adjacency matrix into a transition probability matrix using the four steps as discussed in Chapter 21.2 of the Information Retrieval book.<br></li>\n",
    "<li>Calculate the final&nbsp;<strong>steady-state distribution probability vector</strong>&nbsp;in a number of iterations on the basis of the given parameters.</li>\n",
    "<li>The&nbsp;page_rank()&nbsp;function should accept the following parameters:</li>\n",
    "<ul>\n",
    "<li>an&nbsp;<strong>N x N adjacency matrix</strong>&nbsp;representing links between pages</li>\n",
    "<li>a&nbsp;<strong>teleport factor</strong></li>\n",
    "<li>an&nbsp;<strong>initial transition probability distribution vector</strong>&nbsp;(in case no explicitly specified probability distribution vector is passed, use a randomly generated probability distribution vector per default where an arbitrarily chosen vector element is set to 1 and thus represents the starting node at time t0)</li>\n",
    "<li>a number of&nbsp;<strong>random walk iterations</strong>&nbsp;(per default, the number of iterations can be set to 20)</li>\n",
    "</ul>\n",
    "<li>You can use the following method signature:</li>"
   ]
  },
  {
   "cell_type": "code",
   "execution_count": null,
   "metadata": {},
   "outputs": [],
   "source": [
    "%run Implementation.ipynb\n",
    "\n",
    "\n",
    "#result_page_rank = page_rank(adj_matrix, teleport_factor, probability_vector, iterations)\n",
    "result_page_rank = page_rank(adj_matrix)\n"
   ]
  },
  {
   "cell_type": "markdown",
   "metadata": {},
   "source": [
    "<ul><li>The&nbsp;page_rank() function should output</li>\n",
    "<ol>\n",
    "<li>each intermediate transformation step in transforming the adjacency matrix into the final transition probability matrix</li>\n",
    "<li>the steady-state probability distribution vector reached after n&nbsp;iterations together with each intermediate calculation iteration</li>\n",
    "</ol> <p></p>\n",
    "<li>Test your function with a teleport factor (alpha) of&nbsp;0.5, a transition probability vector [1, 0, 0], and&nbsp;20&nbsp;iterations.</li>\n",
    "<li>Compare the steady-state probability distribution vector with the rendered adjacency matrix to understand the concept of the PageRank algorithm</li>\n",
    "</ul><p></p>\n",
    "\n",
    "<p></p>\n"
   ]
  },
  {
   "cell_type": "markdown",
   "metadata": {},
   "source": [
    "### Further Questions:\n",
    "\n",
    "#### 1. Outline how the result of a PageRank calculation can be integrated into the calculation process of a retrieval (similarity) score\n",
    "...\n",
    "#### 2. Think about the nature of the PageRank and ascertain whether it is a query-dependent or query-independent measure\n",
    "..."
   ]
  },
  {
   "cell_type": "markdown",
   "metadata": {},
   "source": []
  }
 ],
 "metadata": {
  "kernelspec": {
   "display_name": "Python 3",
   "language": "python",
   "name": "python3"
  },
  "language_info": {
   "codemirror_mode": {
    "name": "ipython",
    "version": 3
   },
   "file_extension": ".py",
   "mimetype": "text/x-python",
   "name": "python",
   "nbconvert_exporter": "python",
   "pygments_lexer": "ipython3",
   "version": "3.9.7"
  }
 },
 "nbformat": 4,
 "nbformat_minor": 2
}
