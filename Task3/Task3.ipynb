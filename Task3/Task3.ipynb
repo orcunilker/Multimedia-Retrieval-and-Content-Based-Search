{
 "cells": [
  {
   "cell_type": "markdown",
   "metadata": {},
   "source": [
    "<h2>Task 3 - Query engine and Evaluation (30 pts)</h2><p>In this\n",
    "task, all the preparations, modifications and transformations are conflated in\n",
    "order to build a query engine that is able to analyze input files with regard\n",
    "to the actual genre. Use the ground-truth to associate a given audio track to a\n",
    "genre term. Calculate the distances (Euclidean distance - L2) between all\n",
    "features vectors and provide a matrix representation. Consider whether you want to normalize the features of your matrix representation to ensure that every features holds the same weight regarding the comparison of two feature vectors. Perform one possible kind of macro-evaluation, therefore determine Precision, Recall and F-Measure (with <b>beta=0.5</b>) for the audio tracks as follows:</p>\n",
    "\n",
    "<ul type=\"disc\">\n",
    " </ul><div style=\"margin-left: 30px;\" class=\"editor-indent\"><ul><li>Loop over all tracks</li><li>Consider the current one as\n",
    "     fixed and compare it to all others</li><li>Rank the results</li><li>Calculate precision, recall and\n",
    "     f-measure for the first <b>5</b> and <b>10</b> tracks with respect to the\n",
    "     genre class</li></ul></div><ul type=\"disc\">\n",
    "</ul>\n",
    "\n",
    "<p><i>Notice: In\n",
    "our scenario, \"found documents\" are the nearest 5/10 tracks in the\n",
    "ranked order; \"relevant documents\" are tracks of the same genre</i></p>\n",
    "\n",
    "### Answers for the following questions and provide your considerations below\n",
    "\n",
    "#### Interpret the results, give reasons for decreasing precision and increasing recall when raising the number of considered tracks.\n",
    "...\n",
    "\n",
    "#### Critically think about the consequences of the special case where only one comparable track is taken into account.\n",
    "...\n",
    "\n",
    "#### What would happen if the number of considered tracks would raise up to 100 percent of the input files?\n",
    "...\n",
    "\n",
    "<img src=\"imgs/ass3_eval.png\" alt=\"Analysis, Evaluation\" width=\"400\" height=\"292\">\n",
    "<p></p>\n",
    "\n",
    "### You should turn in:\n",
    "* notebook (Implementation) for extraction / comparison; tabular representation of precision, recall and f-measure\n",
    "* a precision-recall graph\n",
    "* your precision/recall interpretation\n",
    "\n"
   ]
  },
  {
   "cell_type": "markdown",
   "metadata": {},
   "source": [
    "<b>Example Precision-Recall Graph (see lecture 6.2.1) :</b>\n",
    "\n",
    "![title](imgs/prec_rec_FILE16.png)"
   ]
  },
  {
   "cell_type": "code",
   "execution_count": null,
   "metadata": {},
   "outputs": [],
   "source": [
    "%run \"Implementation.ipynb\"\n",
    "\n",
    "evaluateQueryEngine(\"../videos/processed\")"
   ]
  }
 ],
 "metadata": {
  "kernelspec": {
   "display_name": "Python 3 (ipykernel)",
   "language": "python",
   "name": "python3"
  },
  "language_info": {
   "codemirror_mode": {
    "name": "ipython",
    "version": 3
   },
   "file_extension": ".py",
   "mimetype": "text/x-python",
   "name": "python",
   "nbconvert_exporter": "python",
   "pygments_lexer": "ipython3",
   "version": "3.9.7"
  }
 },
 "nbformat": 4,
 "nbformat_minor": 4
}
