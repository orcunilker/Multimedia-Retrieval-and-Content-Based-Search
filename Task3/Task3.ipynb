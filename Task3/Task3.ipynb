{
 "cells": [
  {
   "cell_type": "markdown",
   "metadata": {},
   "source": [
    "## Task 3: Video genre classification (30 Pt.)\n",
    "Cluster all videos from the development set based on a feature of your choice using Kmeans.\n",
    "Try to adjust the number of clusters in such a way that movies of the same genre\n",
    "are in the same cluster. Choose one or more features from those you have worked\n",
    "with so far. Assign the clips from the test set to a genre. Therefore, assign\n",
    "each cluster the genre label based on majority voting (e.g. if a cluster\n",
    "contains 3 dance and 1 thriller clip it would be classified as dance). If there\n",
    "is no majority in a cluster, decide on a label and note it in your answers. </p>\n",
    "\n",
    "<p>The ground\n",
    "truth of the genre labels is provided within the clip names: &lt;genre&gt;_&lt;movie\n",
    "name&gt;_&lt;scene number&gt;, where the genre classes are labeled by (01 thriller, 02 dance, and 03\n",
    "documentary).</p>\n",
    "\n"
   ]
  },
  {
   "cell_type": "code",
   "execution_count": null,
   "metadata": {},
   "outputs": [],
   "source": [
    "%run Implementation.ipynb\n",
    "\n",
    "do_k_means(plot=True)"
   ]
  },
  {
   "cell_type": "markdown",
   "metadata": {},
   "source": [
    "### Answer the following questions:\n",
    "\n",
    "\n",
    "##### What does clustering mean?&nbsp; How does kmeans work?\n",
    "...\n",
    "##### Why have you chosen the selected feature? Is it possible to recognize the different genres using your feature?\n",
    "...\n",
    "##### Which feature or combination of features could be useful to cluster video genres?\n",
    "...\n",
    "##### Calculate recall, precision and F1 measure for 3 different numbers of clusters and discuss the results.\n",
    "..."
   ]
  },
  {
   "cell_type": "markdown",
   "metadata": {},
   "source": []
  }
 ],
 "metadata": {
  "kernelspec": {
   "display_name": "Python 3",
   "language": "python",
   "name": "python3"
  },
  "language_info": {
   "codemirror_mode": {
    "name": "ipython",
    "version": 3
   },
   "file_extension": ".py",
   "mimetype": "text/x-python",
   "name": "python",
   "nbconvert_exporter": "python",
   "pygments_lexer": "ipython3",
   "version": "3.9.7"
  }
 },
 "nbformat": 4,
 "nbformat_minor": 2
}
