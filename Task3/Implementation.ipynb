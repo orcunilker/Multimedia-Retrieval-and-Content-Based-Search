{
 "cells": [
  {
   "cell_type": "code",
   "execution_count": 1,
   "metadata": {},
   "outputs": [],
   "source": [
    "import numpy as np                     # numpy\n",
    "import pandas as pd                    # pandas\n",
    "\n",
    "from numpy.linalg import norm"
   ]
  },
  {
   "cell_type": "code",
   "execution_count": 2,
   "metadata": {},
   "outputs": [],
   "source": [
    "%run ../Task1/Implementation.ipynb\n",
    "\n",
    "def perform_query(inputDataFrame: pd.DataFrame, query: str) -> pd.DataFrame:\n",
    "    individualTermFrequencies = list(inputDataFrame[\"individual tf\"]) #get tfs\n",
    "    termsList = list(inputDataFrame[\"sorted inv. term indices\"]) #get terms (same size as the above)\n",
    "    documentVector = list(map(list, zip(*individualTermFrequencies))) #'transpose' the individual tf matrix, so that we get documents\n",
    "    \n",
    "    #clean query\n",
    "    queryTerms = query.split(\" \") #get the terms without space\n",
    "    while(\"\" in queryTerms): #remove all blank ones\n",
    "        queryTerms.remove(\"\")\n",
    "    queryDocument = queryTerms # we now have a list of terms in the query\n",
    "    \n",
    "    # We now make list of - which terms are how often in this document (the order is like in the provided df)\n",
    "    queryTfList = []\n",
    "    for i in range(len(termsList)):\n",
    "        queryTfList.append(queryDocument.count(termsList[i]))\n",
    "    \n",
    "    #now we go through all lists (vectors) of tfs and calculate cosine similarity to the vector of our query (which are the same size, as the vector descibes all existing terms)\n",
    "    cosineSimilarityList = []\n",
    "    for documentTfList in documentVector:\n",
    "        cosineSimlarity = np.dot(queryTfList,documentTfList)/(norm(queryTfList)*norm(documentTfList))\n",
    "        cosineSimilarityList.append(cosineSimlarity)\n",
    "    \n",
    "    # create df\n",
    "    df = pd.DataFrame(columns=['document number', 'query document similarity'])\n",
    "    for i in range(len(cosineSimilarityList)):\n",
    "        newRow = pd.DataFrame.from_records([{ #add to dataframe\n",
    "                            'document number': i + 1,\n",
    "                            'query document similarity': cosineSimilarityList[i]\n",
    "                        }])\n",
    "        df = pd.concat([df, newRow])\n",
    "    \n",
    "    df.sort_values(by=['query document similarity'], inplace=True, ascending=False) # sort values for cosine similarity\n",
    "    \n",
    "    return df"
   ]
  },
  {
   "cell_type": "code",
   "execution_count": 3,
   "metadata": {},
   "outputs": [
    {
     "data": {
      "text/html": [
       "<div>\n",
       "<style scoped>\n",
       "    .dataframe tbody tr th:only-of-type {\n",
       "        vertical-align: middle;\n",
       "    }\n",
       "\n",
       "    .dataframe tbody tr th {\n",
       "        vertical-align: top;\n",
       "    }\n",
       "\n",
       "    .dataframe thead th {\n",
       "        text-align: right;\n",
       "    }\n",
       "</style>\n",
       "<table border=\"1\" class=\"dataframe\">\n",
       "  <thead>\n",
       "    <tr style=\"text-align: right;\">\n",
       "      <th></th>\n",
       "      <th>document number</th>\n",
       "      <th>query document similarity</th>\n",
       "    </tr>\n",
       "  </thead>\n",
       "  <tbody>\n",
       "    <tr>\n",
       "      <th>0</th>\n",
       "      <td>5</td>\n",
       "      <td>0.603023</td>\n",
       "    </tr>\n",
       "    <tr>\n",
       "      <th>0</th>\n",
       "      <td>2</td>\n",
       "      <td>0.277350</td>\n",
       "    </tr>\n",
       "    <tr>\n",
       "      <th>0</th>\n",
       "      <td>4</td>\n",
       "      <td>0.267261</td>\n",
       "    </tr>\n",
       "    <tr>\n",
       "      <th>0</th>\n",
       "      <td>1</td>\n",
       "      <td>0.000000</td>\n",
       "    </tr>\n",
       "    <tr>\n",
       "      <th>0</th>\n",
       "      <td>3</td>\n",
       "      <td>0.000000</td>\n",
       "    </tr>\n",
       "  </tbody>\n",
       "</table>\n",
       "</div>"
      ],
      "text/plain": [
       "  document number  query document similarity\n",
       "0               5                   0.603023\n",
       "0               2                   0.277350\n",
       "0               4                   0.267261\n",
       "0               1                   0.000000\n",
       "0               3                   0.000000"
      ]
     },
     "execution_count": 3,
     "metadata": {},
     "output_type": "execute_result"
    }
   ],
   "source": [
    "table_tfidf = calculate_tfidf('../collection1.txt')\n",
    "perform_query(table_tfidf, 'we')"
   ]
  },
  {
   "cell_type": "code",
   "execution_count": null,
   "metadata": {},
   "outputs": [],
   "source": []
  }
 ],
 "metadata": {
  "kernelspec": {
   "display_name": "Python 3",
   "language": "python",
   "name": "python3"
  },
  "language_info": {
   "codemirror_mode": {
    "name": "ipython",
    "version": 3
   },
   "file_extension": ".py",
   "mimetype": "text/x-python",
   "name": "python",
   "nbconvert_exporter": "python",
   "pygments_lexer": "ipython3",
   "version": "3.9.7"
  }
 },
 "nbformat": 4,
 "nbformat_minor": 2
}
