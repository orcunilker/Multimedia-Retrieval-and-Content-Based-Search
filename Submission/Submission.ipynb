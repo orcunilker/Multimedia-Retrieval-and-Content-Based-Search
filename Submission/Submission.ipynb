{
 "cells": [
  {
   "cell_type": "markdown",
   "metadata": {},
   "source": [
    "<h2>Submission System</h2>\n",
    "<br>\n",
    "The submission of the individual assignments consists of multiple steps.\n",
    "\n",
    "<ol>\n",
    "    <li>Solve each task the described way (i.e. <a href = \"../Task1\">Task 1</a>). You can either do this locally on your machine (probably the most convenient approach), or work in the cloud directly at <a href = https://jupyterlab.cs.univie.ac.at/>https://jupyterlab.cs.univie.ac.at/</a>.</li>\n",
    "    <li>Once you are done, make sure that you generate a <b>requirements.txt</b> file. This way, we know exactly what libraries/packages you were using and can replicate your execution environment for the grading process.</li>\n",
    "    </ol>\n",
    "        "
   ]
  },
  {
   "cell_type": "markdown",
   "metadata": {},
   "source": [
    "Use this command to generate the <b>requirements.txt</b> file"
   ]
  },
  {
   "cell_type": "code",
   "execution_count": null,
   "metadata": {},
   "outputs": [],
   "source": [
    "!pip freeze >../requirements.txt"
   ]
  },
  {
   "cell_type": "markdown",
   "metadata": {},
   "source": [
    "In the case the above command doesn't work, try opening a Terminal from the Jupyter Notebook environment by selecting <b>New -> Terminal</b> and entering the same command from there."
   ]
  },
  {
   "cell_type": "markdown",
   "metadata": {},
   "source": [
    "<ol start=3>\n",
    "    <li>Include the generated <b>requirements.txt</b> file in your submission (inside the assignment folder). The assignment folder and folders within should have the same name as in the template (e.g. Assignment1, Task2 etc.)</li>\n",
    "    <li>Once this is done, push your Assignment folder to your GitLab repository at <a href= https://git01lab.cs.univie.ac.at/ >https://git01lab.cs.univie.ac.at/</a></li>\n",
    "    <li> Make sure that your solution pushed to GitLab works in the <a href = https://jupyterlab.cs.univie.ac.at/>jupyterlab.cs.univie.ac.at/</a> environment (you can login there with your university credentials) . To do this, clone your GitLab project to your user folder there by selecting <b>File -> New -> Terminal</b> and entering <b>git clone [project url]</b> and your GitLab credentials.The project and contained files should now show up in the UI.</li>\n",
    "<li>Install all libraries from your <b>requirements.txt</b> file to your user profile with <b>pip install -r requirements.txt --user</b>. Otherwise, you could install used libraries manually with <b>\"pip install --user mylibrary\"</b> and create your requirements file  directly on the cloud platform. However, make sure that a working requirements file ends up in your GitLab repository. \n",
    "<li>Once everything is installed, make sure to restart the Kernel and test whether your Notebooks run on the platform. Note that most libraries are probably already pre-installed at notebook.cs.univie.ac.at. Nonetheless, these steps are important to ensure that your solution runs for the grading process.</li>\n",
    "</ol>\n",
    "\n",
    "You will find suggested libraries and other hints in the Preparation notebooks, which introduce some libraries and their basic functionality. These should serve as general guidance regarding the tasks. However, you are free to choose your own approach. Just remember to hand in your <b>requirements.txt</b> file!"
   ]
  }
 ],
 "metadata": {
  "kernelspec": {
   "display_name": "Python 3 (ipykernel)",
   "language": "python",
   "name": "python3"
  },
  "language_info": {
   "codemirror_mode": {
    "name": "ipython",
    "version": 3
   },
   "file_extension": ".py",
   "mimetype": "text/x-python",
   "name": "python",
   "nbconvert_exporter": "python",
   "pygments_lexer": "ipython3",
   "version": "3.9.7"
  }
 },
 "nbformat": 4,
 "nbformat_minor": 4
}
