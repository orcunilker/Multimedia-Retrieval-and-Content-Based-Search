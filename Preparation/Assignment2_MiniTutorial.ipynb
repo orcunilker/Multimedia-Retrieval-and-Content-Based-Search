{
 "cells": [
  {
   "cell_type": "markdown",
   "metadata": {},
   "source": [
    "<h2>Suggested library: Librosa</h2>\n",
    "\n",
    "In your Jupyter Notebook environment, navigate to \"new\" and select \"terminal\"\n",
    "![title](imgs/new_terminal.PNG)\n",
    "\n",
    "Install the Librosa library via PIP\n",
    "![title](imgs/pip_install.PNG)"
   ]
  },
  {
   "cell_type": "markdown",
   "metadata": {},
   "source": [
    "<h3>Or:</h3>"
   ]
  },
  {
   "cell_type": "code",
   "execution_count": null,
   "metadata": {},
   "outputs": [],
   "source": [
    "!pip install librosa"
   ]
  },
  {
   "cell_type": "markdown",
   "metadata": {},
   "source": [
    "<h2>Test Run</h2>"
   ]
  },
  {
   "cell_type": "code",
   "execution_count": null,
   "metadata": {},
   "outputs": [],
   "source": [
    "import librosa\n",
    "print(librosa.__version__)"
   ]
  },
  {
   "cell_type": "code",
   "execution_count": null,
   "metadata": {},
   "outputs": [],
   "source": [
    "y, sr = librosa.load(librosa.util.example(\"brahms\"))\n",
    "print(\"audio buffer length: \", len(y), \", sampling rate: \", sr)"
   ]
  },
  {
   "cell_type": "markdown",
   "metadata": {},
   "source": [
    "<h2>Resampling</h2>"
   ]
  },
  {
   "cell_type": "code",
   "execution_count": null,
   "metadata": {},
   "outputs": [],
   "source": [
    "new_sr = 44100\n",
    "y = librosa.resample(y, orig_sr=sr, target_sr=new_sr)\n"
   ]
  },
  {
   "cell_type": "markdown",
   "metadata": {},
   "source": [
    "<h2>Display interactive plots directy in Jupyter Notebook</h2>"
   ]
  },
  {
   "cell_type": "code",
   "execution_count": null,
   "metadata": {},
   "outputs": [],
   "source": [
    "#matplotlib as basis, used by librosa.display\n",
    "import matplotlib.pyplot as plt\n",
    "import librosa.display\n",
    "\n",
    "#use styles\n",
    "import matplotlib.style as ms\n",
    "ms.use('seaborn-v0_8-muted')\n",
    "\n",
    "# Render interactive figures\n",
    "%matplotlib widget\n",
    "\n",
    "#add audio widget for playback\n",
    "from IPython.display import Audio\n"
   ]
  },
  {
   "cell_type": "code",
   "execution_count": null,
   "metadata": {},
   "outputs": [],
   "source": [
    "plt.figure()\n",
    "librosa.display.waveshow(y=y, sr=new_sr)"
   ]
  },
  {
   "cell_type": "markdown",
   "metadata": {},
   "source": [
    "<h2>Play your Audio Files</h2>"
   ]
  },
  {
   "cell_type": "code",
   "execution_count": null,
   "metadata": {},
   "outputs": [],
   "source": [
    "import IPython.display as ipd\n",
    "ipd.Audio(y, rate=sr) # load a NumPy array"
   ]
  },
  {
   "cell_type": "markdown",
   "metadata": {},
   "source": [
    "Take a listen to your resampled files..."
   ]
  },
  {
   "cell_type": "code",
   "execution_count": null,
   "metadata": {},
   "outputs": [],
   "source": [
    "new_sr = 5512\n",
    "y = librosa.resample(y, orig_sr=sr, target_sr=new_sr)\n",
    "\n",
    "ipd.Audio(y, rate=new_sr) # load a NumPy array"
   ]
  },
  {
   "cell_type": "markdown",
   "metadata": {},
   "source": [
    "<h2>Extracting features correctly</h2>\n",
    "Librosa offers many options to extract all kinds of features from an audio stream - but watch out for format of the data you're getting"
   ]
  },
  {
   "cell_type": "markdown",
   "metadata": {},
   "source": [
    "Sometimes it is straight-foward:"
   ]
  },
  {
   "cell_type": "code",
   "execution_count": null,
   "metadata": {},
   "outputs": [],
   "source": [
    "librosa.feature.zero_crossing_rate(y)"
   ]
  },
  {
   "cell_type": "markdown",
   "metadata": {},
   "source": [
    "Sometimes some manual steps are required:"
   ]
  },
  {
   "cell_type": "code",
   "execution_count": null,
   "metadata": {},
   "outputs": [],
   "source": [
    "#EXTRACT ENERGY\n",
    "import numpy as np\n",
    "\n",
    "hop_len = 256\n",
    "frame_len = 512\n",
    "energy = np.array([sum(abs(y[i:i + frame_len] ** 2)) for i in range(0, len(y), hop_len)])\n",
    "energy"
   ]
  },
  {
   "cell_type": "code",
   "execution_count": null,
   "metadata": {},
   "outputs": [],
   "source": [
    "#EXTRACT TEMPO\n",
    "onset_env = librosa.onset.onset_strength(y=y, sr=sr)\n",
    "tempo = librosa.beat.tempo(onset_envelope=onset_env, sr=sr, aggregate=None)\n",
    "tempo"
   ]
  },
  {
   "cell_type": "markdown",
   "metadata": {},
   "source": [
    "Sometimes you Librosa gives you a multidimensional represenation of a feature which requires further processing to fit into the wanted format"
   ]
  },
  {
   "cell_type": "code",
   "execution_count": null,
   "metadata": {},
   "outputs": [],
   "source": [
    "hop_length = 512\n",
    "\n",
    "mfcc = librosa.feature.mfcc(y=y, sr=sr, hop_length=hop_length, n_mfcc=13)\n",
    "mfcc_averaged = mfcc.mean(axis=0)\n",
    "mfcc_averaged"
   ]
  },
  {
   "cell_type": "markdown",
   "metadata": {},
   "source": [
    "Be sure to check the documentation before extracting a feature! <p>\n",
    "http://librosa.github.io/librosa/"
   ]
  },
  {
   "cell_type": "code",
   "execution_count": null,
   "metadata": {},
   "outputs": [],
   "source": []
  }
 ],
 "metadata": {
  "kernelspec": {
   "display_name": "Python 3 (ipykernel)",
   "language": "python",
   "name": "python3"
  },
  "language_info": {
   "codemirror_mode": {
    "name": "ipython",
    "version": 3
   },
   "file_extension": ".py",
   "mimetype": "text/x-python",
   "name": "python",
   "nbconvert_exporter": "python",
   "pygments_lexer": "ipython3",
   "version": "3.9.7"
  }
 },
 "nbformat": 4,
 "nbformat_minor": 4
}
